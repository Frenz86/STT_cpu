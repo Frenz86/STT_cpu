{
 "cells": [
  {
   "cell_type": "code",
   "execution_count": null,
   "metadata": {},
   "outputs": [],
   "source": []
  },
  {
   "cell_type": "code",
   "execution_count": null,
   "metadata": {},
   "outputs": [
    {
     "name": "stdout",
     "output_type": "stream",
     "text": [
      "WARNING:tensorflow:From c:\\Users\\danie\\AppData\\Local\\Programs\\Python\\Python311\\Lib\\site-packages\\keras\\src\\losses.py:2976: The name tf.losses.sparse_softmax_cross_entropy is deprecated. Please use tf.compat.v1.losses.sparse_softmax_cross_entropy instead.\n",
      "\n"
     ]
    },
    {
     "name": "stderr",
     "output_type": "stream",
     "text": [
      "Special tokens have been added in the vocabulary, make sure the associated word embeddings are fine-tuned or trained.\n"
     ]
    }
   ],
   "source": [
    "import gradio as gr\n",
    "import numpy as np\n",
    "import torch\n",
    "from transformers import pipeline\n",
    "import soundfile as sf\n",
    "import os\n",
    "import warnings\n",
    "warnings.filterwarnings(\"ignore\")\n",
    "\n",
    "# Configurazione iniziale\n",
    "DEVICE = \"cuda\" if torch.cuda.is_available() else \"cpu\"\n",
    "DTYPE = torch.float16 if DEVICE == \"cuda\" else torch.float32\n",
    "\n",
    "# Initialize the whisper model\n",
    "model = pipeline(\"automatic-speech-recognition\",\n",
    "                model=\"distil-whisper/distil-large-v3\",\n",
    "                device=DEVICE,\n",
    "                torch_dtype=DTYPE,\n",
    "                )\n",
    "\n",
    "def transcribe_audio(audio):\n",
    "    \"\"\"\n",
    "    Transcribe audio data to text.\n",
    "    \"\"\"\n",
    "    if audio is None:\n",
    "        return \"\"\n",
    "    try:\n",
    "        sample_rate, data = audio\n",
    "        temp_path = \"temp_audio.wav\"\n",
    "        sf.write(temp_path, data, sample_rate)        \n",
    "        result = model(temp_path)\n",
    "        transcription = result[\"text\"]        \n",
    "        if os.path.exists(temp_path):\n",
    "            os.remove(temp_path)\n",
    "        return transcription\n",
    "    except Exception as e:\n",
    "        print(f\"Error during transcription: {str(e)}\")\n",
    "        return \"\"\n",
    "\n",
    "def create_interface():\n",
    "    with gr.Blocks() as demo:\n",
    "        gr.Markdown(\"# Audio Transcription\")\n",
    "        with gr.Row():\n",
    "            audio_input = gr.Audio(\n",
    "                                    sources=[\"microphone\", \"upload\"],\n",
    "                                    type=\"numpy\"\n",
    "                                    )            \n",
    "            text_output = gr.Textbox(\n",
    "                                    label=\"Transcription\",\n",
    "                                    placeholder=\"Transcription will appear here...\",\n",
    "                                    lines=5\n",
    "                                    )        \n",
    "        submit_btn = gr.Button(\"Transcribe\")        \n",
    "        submit_btn.click(\n",
    "                        fn=transcribe_audio,\n",
    "                        inputs=[audio_input],\n",
    "                        outputs=[text_output]\n",
    "                        )\n",
    "        gr.Examples(\n",
    "                    examples=[[\"sample_audio.wav\"],  # Aggiungi qui i tuoi file di esempio\n",
    "                            ],\n",
    "                    inputs=[audio_input],\n",
    "                    outputs=[text_output],\n",
    "                    )\n",
    "        gr.Markdown(\"\"\"\n",
    "        ## Instructions\n",
    "        1. Click the microphone button to record audio or upload an audio file\n",
    "        2. Click 'Transcribe' to convert the audio to text and the transcription will appear in the text box\n",
    "        \n",
    "        \"\"\")\n",
    "        \n",
    "    return demo"
   ]
  },
  {
   "cell_type": "code",
   "execution_count": 11,
   "metadata": {},
   "outputs": [
    {
     "name": "stdout",
     "output_type": "stream",
     "text": [
      "* Running on local URL:  http://localhost:7863\n",
      "\n",
      "Could not create share link. Please check your internet connection or our status page: https://status.gradio.app.\n"
     ]
    },
    {
     "data": {
      "text/html": [
       "<div><iframe src=\"http://localhost:7863/\" width=\"100%\" height=\"500\" allow=\"autoplay; camera; microphone; clipboard-read; clipboard-write;\" frameborder=\"0\" allowfullscreen></iframe></div>"
      ],
      "text/plain": [
       "<IPython.core.display.HTML object>"
      ]
     },
     "metadata": {},
     "output_type": "display_data"
    },
    {
     "data": {
      "text/plain": []
     },
     "execution_count": 11,
     "metadata": {},
     "output_type": "execute_result"
    }
   ],
   "source": [
    "demo = create_interface()\n",
    "demo.launch(share=True, server_name=\"localhost\")"
   ]
  },
  {
   "cell_type": "code",
   "execution_count": null,
   "metadata": {},
   "outputs": [],
   "source": []
  }
 ],
 "metadata": {
  "kernelspec": {
   "display_name": "Python 3",
   "language": "python",
   "name": "python3"
  },
  "language_info": {
   "codemirror_mode": {
    "name": "ipython",
    "version": 3
   },
   "file_extension": ".py",
   "mimetype": "text/x-python",
   "name": "python",
   "nbconvert_exporter": "python",
   "pygments_lexer": "ipython3",
   "version": "3.11.9"
  }
 },
 "nbformat": 4,
 "nbformat_minor": 2
}
